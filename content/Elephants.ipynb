{
  "metadata": {
    "kernelspec": {
      "name": "python",
      "display_name": "Python (Pyodide)",
      "language": "python"
    },
    "language_info": {
      "codemirror_mode": {
        "name": "python",
        "version": 3
      },
      "file_extension": ".py",
      "mimetype": "text/x-python",
      "name": "python",
      "nbconvert_exporter": "python",
      "pygments_lexer": "ipython3",
      "version": "3.8"
    }
  },
  "nbformat_minor": 4,
  "nbformat": 4,
  "cells": [
    {
      "cell_type": "code",
      "source": "import pandas as pd\nimport matplotlib.pyplot as plt",
      "metadata": {
        "trusted": true
      },
      "outputs": [],
      "execution_count": null
    },
    {
      "cell_type": "markdown",
      "source": "https://www.data.gov.in/catalog/elephant-reserve-and-population-status",
      "metadata": {}
    },
    {
      "cell_type": "code",
      "source": "df = pd.read_csv('./data/Elephantpopulation1993to2017.csv')",
      "metadata": {
        "trusted": true
      },
      "outputs": [],
      "execution_count": null
    },
    {
      "cell_type": "code",
      "source": "df",
      "metadata": {
        "trusted": true
      },
      "outputs": [],
      "execution_count": null
    },
    {
      "cell_type": "code",
      "source": "for i in range(len(df.columns)):\n    if i > 0:\n        df[df.columns[i]] = pd.to_numeric(df[df.columns[i]], errors='coerce')",
      "metadata": {
        "trusted": true
      },
      "outputs": [],
      "execution_count": null
    },
    {
      "cell_type": "code",
      "source": "df.columns",
      "metadata": {
        "trusted": true
      },
      "outputs": [],
      "execution_count": null
    },
    {
      "cell_type": "code",
      "source": "# Extract years from column names\nyears = [col.split()[-1] for col in df.columns if 'ELEPHANT POPULATION' in col]",
      "metadata": {
        "trusted": true
      },
      "outputs": [],
      "execution_count": null
    },
    {
      "cell_type": "code",
      "source": "for index, row in df.iterrows():\n    plt.figure()  # Create a new figure for each row\n    plt.title(f'{row.iloc[0]}')\n    population_values = row.iloc[1:7]\n    plt.plot(years, population_values, marker='o', label=f'Population in {row.iloc[0]}')\n    plt.xlabel('Years')\n    plt.ylabel('Elephant Population')\n    plt.xticks(rotation=30)\n    plt.legend()\n    plt.show()",
      "metadata": {
        "trusted": true
      },
      "outputs": [],
      "execution_count": null
    },
    {
      "cell_type": "code",
      "source": "# Extract the years from the column names\nyears = [col.split()[-1] for col in df.columns if 'ELEPHANT POPULATION' in col]\n\n# Plot all rows on a single figure\nplt.figure(figsize=(10, 6))  # Create a single figure with a specific size\n\n# Loop through each row and plot the data, excluding the last one\nfor index, row in df.iloc[:-1].iterrows():  # Exclude the last row\n    # Extract population values for this state\n    population_values = row.iloc[1:].values  # Skip the 'STATE' column\n    \n    # Plot the population values for the state\n    plt.plot(years, population_values, marker='o', label=row['STATE'])\n\n# Add axis labels, title, and legend\nplt.xlabel('Years')\nplt.ylabel('Elephant Population')\nplt.title('Elephant Population Over Time by State')\nplt.xticks(rotation=30)\n\n# Move the legend outside the plot\nplt.legend(title='State', bbox_to_anchor=(1.05, 1), loc='upper left')\n\n# Adjust layout to make space for the legend\nplt.tight_layout()\n\n# Show the combined plot\nplt.show()",
      "metadata": {
        "trusted": true
      },
      "outputs": [],
      "execution_count": null
    },
    {
      "cell_type": "code",
      "source": "array = df.to_numpy()",
      "metadata": {
        "trusted": true
      },
      "outputs": [],
      "execution_count": null
    },
    {
      "cell_type": "code",
      "source": "array",
      "metadata": {
        "trusted": true
      },
      "outputs": [],
      "execution_count": null
    }
  ]
}