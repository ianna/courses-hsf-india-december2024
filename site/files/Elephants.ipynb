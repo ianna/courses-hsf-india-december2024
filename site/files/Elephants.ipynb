{
 "cells": [
  {
   "cell_type": "markdown",
   "metadata": {},
   "source": [
    "# Part 1: Introduction to Jupyter Notebook\n",
    "Jupyter Notebook is an open-source web application that allows you to create and share documents that contain live code, equations, visualizations, and narrative text. It is widely used in data science, machine learning, academic research, and other fields for several key purposes:\n",
    "### 1. **Interactive Computing**:\n",
    "   - Users can write and execute code in real-time, which is particularly useful for data analysis and experimentation.\n",
    "   - It supports multiple programming languages, but is most commonly used with Python, R, and Julia.\n",
    "### 2. **Data Visualization**:\n",
    "   - Jupyter Notebooks can display plots and graphs inline, enabling users to visualize data directly alongside the code that generates it.\n",
    "   - Libraries like Matplotlib, Seaborn, and Plotly are frequently used within notebooks for this purpose.\n",
    "### 3. **Documentation**:\n",
    "   - Users can combine code with markdown text to document their work clearly and concisely.\n",
    "   - You can include headings, lists, links, images, and mathematical equations using LaTeX syntax.\n",
    "### 4. **Prototyping and Testing**:\n",
    "   - Ideal for prototyping algorithms or testing small snippets of code without the need to create complete scripts.\n",
    "   - Users can iteratively develop their code, making it easier to debug and refine.\n",
    "### 5. **Reproducibility**:\n",
    "   - Jupyter Notebooks allow researchers and data scientists to document their data processing and analysis steps, making it easier for others to replicate their work.\n",
    "   - Notebooks can be shared with others as standalone documents, preserving the code and output.\n",
    "### 6. **Teaching and Learning**:\n",
    "   - Widely used in educational settings to teach programming, data science, and machine learning concepts.\n",
    "   - Instructors can provide interactive examples that students can run and modify.\n",
    "### 7. **Integration with Other Tools**:\n",
    "   - Jupyter Notebooks can be integrated with tools like GitHub, making it easy to share and collaborate on projects.\n",
    "   - They can also be converted to various formats (e.g., HTML, PDF) for sharing or publishing.\n",
    "\n",
    "### Use Cases:\n",
    "- **Data Analysis**: Loading data, cleaning it, performing analyses, and visualizing results.\n",
    "- **Machine Learning**: Training models, testing them, and visualizing their performance.\n",
    "- **Research**: Documenting experiments and findings in a clear, interactive manner.\n",
    "\n",
    "### Conclusion:\n",
    "Jupyter Notebooks provide a versatile environment for coding, data analysis, and collaborative research, making them an essential tool for many professionals and educators in the fields of science, technology, engineering, and mathematics (STEM)."
   ]
  },
  {
   "cell_type": "markdown",
   "metadata": {},
   "source": [
    "# Simple code execution\n",
    "In Jupyter Notebooks refers to the ability to write, run, and test small pieces of code interactively. This feature is one of the key advantages of using Jupyter Notebooks, and it enhances the workflow for programmers, data scientists, and educators. Here's a detailed expansion on this concept:\n",
    "\n",
    "### Features of Simple Code Execution\n",
    "1. **Interactive Code Cells**:\n",
    "   - Jupyter Notebooks are structured into **cells**, and each cell can contain code, text, or even visualizations. \n",
    "   - Users can execute code cells independently, allowing for a modular approach to programming. For example, you can write a function in one cell and call it in another."
   ]
  },
  {
   "cell_type": "code",
   "execution_count": null,
   "metadata": {},
   "outputs": [],
   "source": [
    "\"Hello world!\""
   ]
  },
  {
   "cell_type": "markdown",
   "metadata": {},
   "source": [
    "2. **Immediate Feedback**:\n",
    "   - After writing a piece of code, you can run it immediately by pressing `Shift + Enter`. This execution provides instant feedback, which is helpful for debugging and understanding how the code works.\n",
    "   - The output of the executed code (e.g., results, errors, or visualizations) is displayed directly below the cell, facilitating rapid iteration and experimentation.\n",
    "3. **Support for Multiple Languages**:\n",
    "   - Although Python is the most common language used in Jupyter Notebooks, it also supports other programming languages (such as R, Julia, and Scala) through different kernels. This flexibility allows users to choose the language that best suits their needs.\n",
    "4. **Variable Persistence**:\n",
    "   - Variables and functions defined in one cell remain accessible in subsequent cells, allowing for a seamless coding experience. This means you can build up your analysis incrementally without having to redefine everything every time.\n",
    "   - For example:"
   ]
  },
  {
   "cell_type": "code",
   "execution_count": null,
   "metadata": {},
   "outputs": [],
   "source": [
    "# Cell 1\n",
    "x = 10"
   ]
  },
  {
   "cell_type": "code",
   "execution_count": null,
   "metadata": {},
   "outputs": [],
   "source": [
    "# Cell 2\n",
    "print(x + 5)  # Outputs: 15"
   ]
  },
  {
   "cell_type": "markdown",
   "metadata": {},
   "source": [
    "5. **Efficient Debugging**:\n",
    "   - Users can quickly modify and rerun code cells to test different approaches or fix errors. If a cell produces an error, only that cell needs to be corrected and rerun, rather than rerunning an entire script.\n",
    "   - This feature encourages experimentation and learning, as users can try different solutions without the overhead of setting up a complete coding environment."
   ]
  },
  {
   "cell_type": "code",
   "execution_count": null,
   "metadata": {},
   "outputs": [],
   "source": [
    "print(\"x =, x)"
   ]
  },
  {
   "cell_type": "code",
   "execution_count": null,
   "metadata": {},
   "outputs": [],
   "source": [
    "a = 3"
   ]
  },
  {
   "cell_type": "code",
   "execution_count": null,
   "metadata": {},
   "outputs": [],
   "source": [
    "a"
   ]
  },
  {
   "cell_type": "code",
   "execution_count": null,
   "metadata": {},
   "outputs": [],
   "source": [
    "def sqr(x):\n",
    "    return x*x"
   ]
  },
  {
   "cell_type": "code",
   "execution_count": null,
   "metadata": {},
   "outputs": [],
   "source": [
    "b = 82"
   ]
  },
  {
   "cell_type": "code",
   "execution_count": null,
   "metadata": {},
   "outputs": [],
   "source": [
    "sqr(b)"
   ]
  },
  {
   "cell_type": "markdown",
   "metadata": {},
   "source": [
    "### Advantages of Simple Code Execution\n",
    "\n",
    "- **Learning and Prototyping**: New programmers can learn concepts in a hands-on way, experimenting with code and immediately seeing results.\n",
    "- **Rapid Development**: Data scientists can quickly prototype models, analyze data, and visualize results without setting up a full application or script.\n",
    "- **Incremental Development**: Users can build complex analyses step-by-step, validating each piece of code before moving on to the next.\n",
    "\n",
    "### Conclusion\n",
    "\n",
    "Simple code execution in Jupyter Notebooks empowers users to write and test code interactively, facilitating learning, experimentation, and rapid development. This feature, combined with the ability to visualize data and document processes, makes Jupyter Notebooks an invaluable tool for a wide range of applications in data science, education, and research."
   ]
  },
  {
   "cell_type": "markdown",
   "metadata": {},
   "source": [
    "### Exercise 1"
   ]
  },
  {
   "cell_type": "markdown",
   "metadata": {},
   "source": [
    "#### Step 1: Write a Simple Function\n",
    "```python\n",
    "def square(number):\n",
    "    return number ** 2\n",
    "```"
   ]
  },
  {
   "cell_type": "code",
   "execution_count": null,
   "metadata": {},
   "outputs": [],
   "source": []
  },
  {
   "cell_type": "markdown",
   "metadata": {},
   "source": [
    "#### Step 2: Execute the Cell\n",
    "- After writing the above code in a cell, run it. The function is now defined and can be used in subsequent cells."
   ]
  },
  {
   "cell_type": "markdown",
   "metadata": {},
   "source": [
    "#### Step 3: Use the Function\n",
    "```python\n",
    "result = square(5)\n",
    "print(result)  # Outputs: 25\n",
    "```"
   ]
  },
  {
   "cell_type": "code",
   "execution_count": null,
   "metadata": {},
   "outputs": [],
   "source": []
  },
  {
   "cell_type": "markdown",
   "metadata": {},
   "source": [
    "#### Step 4: Modify and Experiment\n",
    "- If you want to see the square of a different number, you can simply change the argument and run the cell again:\n",
    "```python\n",
    "result = square(7)\n",
    "print(result)  # Outputs: 49\n",
    "```"
   ]
  },
  {
   "cell_type": "code",
   "execution_count": null,
   "metadata": {},
   "outputs": [],
   "source": []
  },
  {
   "cell_type": "markdown",
   "metadata": {},
   "source": [
    "# Code completion\n",
    "\n",
    "Press **```tab```** to see what is available in **```sys```** module:"
   ]
  },
  {
   "cell_type": "code",
   "execution_count": null,
   "metadata": {},
   "outputs": [],
   "source": [
    "from sys import v"
   ]
  },
  {
   "cell_type": "markdown",
   "metadata": {},
   "source": [
    "# Code inspection\n",
    "Use **```?```** mark:"
   ]
  },
  {
   "cell_type": "code",
   "execution_count": null,
   "metadata": {},
   "outputs": [],
   "source": [
    "?print"
   ]
  },
  {
   "cell_type": "markdown",
   "metadata": {},
   "source": [
    "Use **```shift+tab```** to complete:"
   ]
  },
  {
   "cell_type": "code",
   "execution_count": null,
   "metadata": {},
   "outputs": [],
   "source": [
    "print("
   ]
  },
  {
   "cell_type": "markdown",
   "metadata": {},
   "source": [
    "# Error handling"
   ]
  },
  {
   "cell_type": "code",
   "execution_count": null,
   "metadata": {},
   "outputs": [],
   "source": [
    "def dummy_function():\n",
    "    import missing_module"
   ]
  },
  {
   "cell_type": "code",
   "execution_count": null,
   "metadata": {},
   "outputs": [],
   "source": [
    "dummy_function()"
   ]
  },
  {
   "cell_type": "markdown",
   "metadata": {},
   "source": [
    "# Input support"
   ]
  },
  {
   "cell_type": "code",
   "execution_count": null,
   "metadata": {},
   "outputs": [],
   "source": [
    "import sys"
   ]
  },
  {
   "cell_type": "code",
   "execution_count": null,
   "metadata": {},
   "outputs": [],
   "source": [
    "name = input('Enter your name: ')"
   ]
  },
  {
   "cell_type": "code",
   "execution_count": null,
   "metadata": {},
   "outputs": [],
   "source": [
    "'Hello, ' + name"
   ]
  },
  {
   "cell_type": "markdown",
   "metadata": {},
   "source": [
    "# Rich representation"
   ]
  },
  {
   "cell_type": "code",
   "execution_count": null,
   "metadata": {},
   "outputs": [],
   "source": [
    "from IPython.display import display, Markdown, HTML, JSON, Latex"
   ]
  },
  {
   "cell_type": "code",
   "execution_count": null,
   "metadata": {},
   "outputs": [],
   "source": [
    "Markdown('''\n",
    "# Title\n",
    "\n",
    "**in bold**\n",
    "\n",
    "~~Strikthrough~~\n",
    "''')"
   ]
  },
  {
   "cell_type": "markdown",
   "metadata": {},
   "source": [
    "## IPython.display module"
   ]
  },
  {
   "cell_type": "markdown",
   "metadata": {},
   "source": [
    "### Display classes"
   ]
  },
  {
   "cell_type": "code",
   "execution_count": null,
   "metadata": {},
   "outputs": [],
   "source": [
    "from IPython.display import HTML\n",
    "HTML('''\n",
    "        <div style=\"background: aliceblue; width: 200px; height: 100px; border-radius: 10px;\">\n",
    "        </div>''')"
   ]
  },
  {
   "cell_type": "code",
   "execution_count": null,
   "metadata": {},
   "outputs": [],
   "source": [
    "from IPython.display import Math\n",
    "Math(r'F(k) = \\int_{-\\infty}^{\\infty} f(x) e^{2\\pi i k} dx')"
   ]
  },
  {
   "cell_type": "markdown",
   "metadata": {},
   "source": [
    "### Maxwell's Equations\n",
    "The following equasion is a representation of Maxwell's Equations in their differential form:\n",
    "\n",
    "These equations are the foundation of classical electromagnetism, describing how electric and magnetic fields denoted by \\begin{eqnarray}\\vec{\\mathbf{E}}  ~and~  \\vec{\\mathbf{B}}\\end{eqnarray} respectively interact with charges and currents denoted by \\begin{eqnarray}\\rho ~and~ \\vec{\\mathbf{j}}\\end{eqnarray}\n"
   ]
  },
  {
   "cell_type": "code",
   "execution_count": null,
   "metadata": {},
   "outputs": [],
   "source": [
    "from IPython.display import Latex\n",
    "Latex(r\"\"\"\\begin{eqnarray}\n",
    "\\nabla \\times \\vec{\\mathbf{B}} -\\, \\frac1c\\, \\frac{\\partial\\vec{\\mathbf{E}}}{\\partial t} & = \\frac{4\\pi}{c}\\vec{\\mathbf{j}} \\\\\n",
    "\\nabla \\cdot \\vec{\\mathbf{E}} & = 4 \\pi \\rho \\\\\n",
    "\\nabla \\times \\vec{\\mathbf{E}}\\, +\\, \\frac1c\\, \\frac{\\partial\\vec{\\mathbf{B}}}{\\partial t} & = \\vec{\\mathbf{0}} \\\\\n",
    "\\nabla \\cdot \\vec{\\mathbf{B}} & = 0 \n",
    "\\end{eqnarray}\"\"\")"
   ]
  },
  {
   "cell_type": "markdown",
   "metadata": {},
   "source": [
    "# Part 2: Data Analysis"
   ]
  },
  {
   "cell_type": "code",
   "execution_count": null,
   "metadata": {},
   "outputs": [],
   "source": [
    "import pandas as pd\n",
    "import matplotlib.pyplot as plt"
   ]
  },
  {
   "cell_type": "markdown",
   "metadata": {},
   "source": [
    "### [Elephant Reserve and Population Status](https://www.data.gov.in/catalog/elephant-reserve-and-population-status)\n",
    "\n",
    "Project Elephant was launched during 1992 as a Centrally Sponsored Scheme with the objectives to protect and conserve the elephant and its habitats, address the Human Elephant Conflict and to ensure the welfare of elephants in captivity.\n",
    "\n",
    " - Released Under: [National Data Sharing and Accessibility Policy (NDSAP)](https://www.data.gov.in/sites/default/files/NDSAP.pdf?_gl=1*ojz6k6*_ga*NDEwOTkxNTE2LjE3Mjc4NzMwMDA.*_ga_2NLK0N9J6V*MTcyNzk4MjM4Ny40LjEuMTcyNzk4MjQxMi4zNS4wLjA.)\n",
    " - Contributor: [Ministry of Environment, Forest and Climate Change](https://www.data.gov.in/ministrydepartment/Ministry%20of%20Environment,%20Forest%20and%20Climate%20Change)\n",
    " - Domain: **Open Government Data (OGD) Platform India**\n",
    "\n",
    "Published On: **15/06/2023**\n",
    "Updated On: **15/06/2023** "
   ]
  },
  {
   "cell_type": "code",
   "execution_count": null,
   "metadata": {},
   "outputs": [],
   "source": [
    "df = pd.read_csv('./data/Elephantpopulation1993to2017.csv')"
   ]
  },
  {
   "cell_type": "code",
   "execution_count": null,
   "metadata": {},
   "outputs": [],
   "source": [
    "# Display the first few rows\n",
    "df.head()"
   ]
  },
  {
   "cell_type": "code",
   "execution_count": null,
   "metadata": {},
   "outputs": [],
   "source": [
    "# Descriptive statistics\n",
    "df.describe()"
   ]
  },
  {
   "cell_type": "code",
   "execution_count": null,
   "metadata": {},
   "outputs": [],
   "source": [
    "df.plot();"
   ]
  },
  {
   "cell_type": "code",
   "execution_count": null,
   "metadata": {},
   "outputs": [],
   "source": [
    "# Extract the years from the column names\n",
    "years = [col.split()[-1] for col in df.columns if 'ELEPHANT POPULATION' in col]\n",
    "\n",
    "# Plot all rows on a single figure\n",
    "plt.figure(figsize=(10, 6))  # Create a single figure with a specific size\n",
    "\n",
    "# Loop through each row and plot the data, excluding the last one\n",
    "for index, row in df.iloc[:-1].iterrows():  # Exclude the last row\n",
    "    # Extract population values for this state\n",
    "    population_values = pd.to_numeric(row.iloc[1:].values, errors='coerce')  # Skip the 'STATE' column\n",
    "    \n",
    "    # Plot the population values for the state\n",
    "    plt.plot(years, population_values, marker='o', label=row['STATE'])\n",
    "\n",
    "# Add axis labels, title, and legend\n",
    "plt.xlabel('Years')\n",
    "plt.ylabel('Elephant Population')\n",
    "plt.title('Elephant Population Over Time by State')\n",
    "plt.xticks(rotation=30)\n",
    "\n",
    "# Move the legend outside the plot\n",
    "plt.legend(title='State', bbox_to_anchor=(1.05, 1), loc='upper left')\n",
    "\n",
    "# Adjust layout to make space for the legend\n",
    "plt.tight_layout()\n",
    "\n",
    "# Show the combined plot\n",
    "plt.show()"
   ]
  },
  {
   "cell_type": "code",
   "execution_count": null,
   "metadata": {},
   "outputs": [],
   "source": [
    "import pandas as pd\n",
    "import matplotlib.pyplot as plt\n",
    "\n",
    "# Assuming df is the original DataFrame\n",
    "\n",
    "# Reshape the DataFrame from wide to long format for easier plotting\n",
    "df_melted = df.melt(id_vars='STATE', var_name='Year', value_name='Population')\n",
    "\n",
    "# Extract the year from the 'Year' column (which contains 'ELEPHANT POPULATION IN YYYY')\n",
    "df_melted['Year'] = df_melted['Year'].str.extract(r'(\\d{4})').astype(int)\n",
    "\n",
    "# Convert population values to numeric (coercing errors to NaN)\n",
    "df_melted['Population'] = pd.to_numeric(df_melted['Population'], errors='coerce')\n",
    "\n",
    "# Plotting\n",
    "plt.figure(figsize=(10, 6))\n",
    "\n",
    "# Plot all states with seaborn-like style for consistency\n",
    "for state, group_data in df_melted.groupby('STATE'):\n",
    "    plt.plot(group_data['Year'], group_data['Population'], marker='o', label=state)\n",
    "\n",
    "# Add axis labels, title, and legend\n",
    "plt.xlabel('Year')\n",
    "plt.ylabel('Elephant Population')\n",
    "plt.title('Elephant Population Over Time by State')\n",
    "plt.xticks(rotation=30)\n",
    "plt.legend(title='State', bbox_to_anchor=(1.05, 1), loc='upper left')\n",
    "plt.tight_layout()\n",
    "\n",
    "# Show the combined plot\n",
    "plt.show()"
   ]
  },
  {
   "cell_type": "code",
   "execution_count": null,
   "metadata": {},
   "outputs": [],
   "source": [
    "import pandas as pd\n",
    "import matplotlib.pyplot as plt\n",
    "\n",
    "# Assuming df is your original DataFrame\n",
    "\n",
    "# Exclude rows where the 'STATE' column is 'Total'\n",
    "df_filtered = df[df['STATE'] != 'Total']\n",
    "\n",
    "# Reshape the DataFrame from wide to long format\n",
    "df_melted = df_filtered.melt(id_vars='STATE', var_name='Year', value_name='Population')\n",
    "\n",
    "# Extract the year from the 'Year' column (which contains 'ELEPHANT POPULATION IN YYYY')\n",
    "df_melted['Year'] = df_melted['Year'].str.extract(r'(\\d{4})').astype(int)\n",
    "\n",
    "# Convert population values to numeric (coercing errors to NaN)\n",
    "df_melted['Population'] = pd.to_numeric(df_melted['Population'], errors='coerce')\n",
    "\n",
    "# Plotting\n",
    "plt.figure(figsize=(10, 6))\n",
    "\n",
    "# Plot all states\n",
    "for state, group_data in df_melted.groupby('STATE'):\n",
    "    plt.plot(group_data['Year'], group_data['Population'], marker='o', label=state)\n",
    "\n",
    "# Add axis labels, title, and legend\n",
    "plt.xlabel('Year')\n",
    "plt.ylabel('Elephant Population')\n",
    "plt.title('Elephant Population Over Time by State')\n",
    "plt.xticks(rotation=30)\n",
    "plt.legend(title='State', bbox_to_anchor=(1.05, 1), loc='upper left')\n",
    "plt.tight_layout()\n",
    "\n",
    "# Show the combined plot\n",
    "plt.show()"
   ]
  },
  {
   "cell_type": "markdown",
   "metadata": {},
   "source": [
    "## 2.1 Filter the DataFrame"
   ]
  },
  {
   "cell_type": "code",
   "execution_count": null,
   "metadata": {},
   "outputs": [],
   "source": [
    "df.columns"
   ]
  },
  {
   "cell_type": "code",
   "execution_count": null,
   "metadata": {},
   "outputs": [],
   "source": [
    "# Filter the DataFrame where the STATE column is 'Manipur'\n",
    "manipur_elephants = df[df['STATE'] == 'Manipur']\n",
    "manipur_elephants"
   ]
  },
  {
   "cell_type": "markdown",
   "metadata": {},
   "source": [
    "## 2.2 Filter the DataFrame by multiple values"
   ]
  },
  {
   "cell_type": "code",
   "execution_count": null,
   "metadata": {},
   "outputs": [],
   "source": [
    "# List of states to filter\n",
    "states = ['West Bengal (North)', 'West Bengal (South)']\n",
    "\n",
    "# Filter the DataFrame based on the STATE column containing any of the specified values\n",
    "selected_rows = df[df['STATE'].isin(states)]\n",
    "\n",
    "# Display the result\n",
    "selected_rows"
   ]
  },
  {
   "cell_type": "code",
   "execution_count": null,
   "metadata": {},
   "outputs": [],
   "source": [
    "# Define a function to handle both numeric values and ranges\n",
    "def convert_to_numeric(value):\n",
    "    if '-' in str(value):  # Check if the value is a range\n",
    "        start, end = map(int, value.split('-'))\n",
    "        return (start + end) / 2  # Use mean of range\n",
    "    else:\n",
    "        return pd.to_numeric(value, errors='coerce')"
   ]
  },
  {
   "cell_type": "code",
   "execution_count": null,
   "metadata": {},
   "outputs": [],
   "source": [
    "# Apply the conversion function to all relevant columns\n",
    "# Use .loc to modify selected_rows safely\n",
    "for col in selected_rows.columns[1:]:  # Assuming you want to skip the first column\n",
    "    selected_rows.loc[:, col] = selected_rows[col].apply(convert_to_numeric)\n",
    "\n",
    "selected_rows"
   ]
  },
  {
   "cell_type": "code",
   "execution_count": null,
   "metadata": {},
   "outputs": [],
   "source": [
    "selected_rows"
   ]
  },
  {
   "cell_type": "code",
   "execution_count": null,
   "metadata": {},
   "outputs": [],
   "source": [
    "column_totals = selected_rows.sum()\n",
    "column_totals"
   ]
  },
  {
   "cell_type": "code",
   "execution_count": null,
   "metadata": {},
   "outputs": [],
   "source": [
    "# Convert the Series to a DataFrame with a single row\n",
    "total_df = pd.DataFrame(column_totals).T"
   ]
  },
  {
   "cell_type": "code",
   "execution_count": null,
   "metadata": {},
   "outputs": [],
   "source": [
    "total_df"
   ]
  },
  {
   "cell_type": "code",
   "execution_count": null,
   "metadata": {},
   "outputs": [],
   "source": [
    "selected_rows.iloc[0]['ELEPHANT POPULATION IN 2007']"
   ]
  },
  {
   "cell_type": "code",
   "execution_count": null,
   "metadata": {},
   "outputs": [],
   "source": [
    "selected_rows['STATE']"
   ]
  },
  {
   "cell_type": "code",
   "execution_count": null,
   "metadata": {},
   "outputs": [],
   "source": [
    "selected_rows.set_index('STATE', inplace=True)"
   ]
  },
  {
   "cell_type": "code",
   "execution_count": null,
   "metadata": {},
   "outputs": [],
   "source": [
    "value = selected_rows.loc['West Bengal (North)', 'ELEPHANT POPULATION IN 2007']\n",
    "value"
   ]
  },
  {
   "cell_type": "markdown",
   "metadata": {},
   "source": [
    "## Population Growth Rate\n",
    "\n",
    "The population growth rate can be calculated using the formula:\n",
    "\n",
    "\\begin{eqnarray}\n",
    "\\\n",
    "\\text{Growth Rate} = \\frac{P_{2021} - P_{2020}}{P_{2020}} \\times 100\n",
    "\\\n",
    "\\end{eqnarray}\n",
    "\n",
    "Where \\begin{eqnarray}( P_{2021} )\\end{eqnarray} is the population in 2021 and \\begin{eqnarray}( P_{2020} )\\end{eqnarray} is the population in 2020."
   ]
  },
  {
   "cell_type": "code",
   "execution_count": null,
   "metadata": {},
   "outputs": [],
   "source": [
    "# Define the growth rate function\n",
    "def growth_rate(current, previous):\n",
    "    return ((current - previous) / previous) * 100 if previous != 0 else None"
   ]
  },
  {
   "cell_type": "code",
   "execution_count": null,
   "metadata": {},
   "outputs": [],
   "source": [
    "total_df"
   ]
  },
  {
   "cell_type": "code",
   "execution_count": null,
   "metadata": {},
   "outputs": [],
   "source": [
    "elephant_df = column_totals"
   ]
  },
  {
   "cell_type": "code",
   "execution_count": null,
   "metadata": {},
   "outputs": [],
   "source": [
    "elephant_df"
   ]
  },
  {
   "cell_type": "code",
   "execution_count": null,
   "metadata": {},
   "outputs": [],
   "source": [
    "i = 0\n",
    "for current_year_value in elephant_df[1:]:\n",
    "    previous_year_value = elephant_df.iloc[i]\n",
    "    print(growth_rate(current_year_value, convert_to_numeric(previous_year_value)))\n",
    "    i += 1"
   ]
  },
  {
   "cell_type": "code",
   "execution_count": null,
   "metadata": {},
   "outputs": [],
   "source": [
    "elephant_df[1:]"
   ]
  },
  {
   "cell_type": "code",
   "execution_count": null,
   "metadata": {},
   "outputs": [],
   "source": [
    "elephant_df[1:].diff(periods=1).div(pd.to_numeric(elephant_df[1:], errors='coerce').shift(1)).mul(100)"
   ]
  },
  {
   "cell_type": "code",
   "execution_count": null,
   "metadata": {},
   "outputs": [],
   "source": [
    "data = pd.DataFrame(selected_rows)"
   ]
  },
  {
   "cell_type": "code",
   "execution_count": null,
   "metadata": {},
   "outputs": [],
   "source": [
    "data"
   ]
  },
  {
   "cell_type": "code",
   "execution_count": null,
   "metadata": {},
   "outputs": [],
   "source": [
    "# Concatenate the new row to the original DataFrame\n",
    "elephant_df = pd.concat([elephant_df, growth_rate_row], ignore_index=True)\n"
   ]
  },
  {
   "cell_type": "code",
   "execution_count": null,
   "metadata": {},
   "outputs": [],
   "source": [
    "elephant_df"
   ]
  },
  {
   "cell_type": "markdown",
   "metadata": {},
   "source": [
    "# Part 3: Advance Data Analysis"
   ]
  },
  {
   "cell_type": "code",
   "execution_count": null,
   "metadata": {},
   "outputs": [],
   "source": [
    "df[df.columns[1:]]"
   ]
  },
  {
   "cell_type": "code",
   "execution_count": null,
   "metadata": {},
   "outputs": [],
   "source": [
    "df[df.columns[1:3]]"
   ]
  },
  {
   "cell_type": "code",
   "execution_count": null,
   "metadata": {},
   "outputs": [],
   "source": [
    "df[df.columns[2:5:2]]"
   ]
  },
  {
   "cell_type": "code",
   "execution_count": null,
   "metadata": {},
   "outputs": [],
   "source": [
    "df[df.columns[2:5:2]]"
   ]
  },
  {
   "cell_type": "code",
   "execution_count": null,
   "metadata": {},
   "outputs": [],
   "source": [
    "df[df.columns[2:5:2]].iloc[24]"
   ]
  },
  {
   "cell_type": "code",
   "execution_count": null,
   "metadata": {},
   "outputs": [],
   "source": [
    "df.iloc[0]"
   ]
  },
  {
   "cell_type": "code",
   "execution_count": null,
   "metadata": {},
   "outputs": [],
   "source": [
    "df.iloc[0]['ELEPHANT POPULATION IN 1993']"
   ]
  },
  {
   "cell_type": "code",
   "execution_count": null,
   "metadata": {},
   "outputs": [],
   "source": [
    "df['ELEPHANT POPULATION IN 1993']"
   ]
  },
  {
   "cell_type": "code",
   "execution_count": null,
   "metadata": {},
   "outputs": [],
   "source": [
    "df.columns[1:]"
   ]
  },
  {
   "cell_type": "code",
   "execution_count": null,
   "metadata": {},
   "outputs": [],
   "source": [
    "for col in df[df.columns[1:]]:\n",
    "    df[col] = pd.to_numeric(df[col], errors='coerce') "
   ]
  },
  {
   "cell_type": "code",
   "execution_count": null,
   "metadata": {},
   "outputs": [],
   "source": [
    "df"
   ]
  },
  {
   "cell_type": "code",
   "execution_count": null,
   "metadata": {},
   "outputs": [],
   "source": [
    "for i in range(len(df.columns)):\n",
    "    if i > 0:\n",
    "        df[df.columns[i]] = pd.to_numeric(df[df.columns[i]], errors='coerce')"
   ]
  },
  {
   "cell_type": "code",
   "execution_count": null,
   "metadata": {},
   "outputs": [],
   "source": [
    "df.columns"
   ]
  },
  {
   "cell_type": "code",
   "execution_count": null,
   "metadata": {},
   "outputs": [],
   "source": [
    "# Extract years from column names\n",
    "years = [col.split()[-1] for col in df.columns if 'ELEPHANT POPULATION' in col]"
   ]
  },
  {
   "cell_type": "code",
   "execution_count": null,
   "metadata": {},
   "outputs": [],
   "source": [
    "for index, row in df.iterrows():\n",
    "    plt.figure()  # Create a new figure for each row\n",
    "    plt.title(f'{row.iloc[0]}')\n",
    "    population_values = row.iloc[1:7]\n",
    "    plt.plot(years, population_values, marker='o', label=f'Population in {row.iloc[0]}')\n",
    "    plt.xlabel('Years')\n",
    "    plt.ylabel('Elephant Population')\n",
    "    plt.xticks(rotation=30)\n",
    "    plt.legend()\n",
    "    plt.show()"
   ]
  },
  {
   "cell_type": "code",
   "execution_count": null,
   "metadata": {},
   "outputs": [],
   "source": [
    "# Extract the years from the column names\n",
    "years = [col.split()[-1] for col in df.columns if 'ELEPHANT POPULATION' in col]\n",
    "\n",
    "# Plot all rows on a single figure\n",
    "plt.figure(figsize=(10, 6))  # Create a single figure with a specific size\n",
    "\n",
    "# Loop through each row and plot the data, excluding the last one\n",
    "for index, row in df.iloc[:-1].iterrows():  # Exclude the last row\n",
    "    # Extract population values for this state\n",
    "    population_values = row.iloc[1:].values  # Skip the 'STATE' column\n",
    "    \n",
    "    # Plot the population values for the state\n",
    "    plt.plot(years, population_values, marker='o', label=row['STATE'])\n",
    "\n",
    "# Add axis labels, title, and legend\n",
    "plt.xlabel('Years')\n",
    "plt.ylabel('Elephant Population')\n",
    "plt.title('Elephant Population Over Time by State')\n",
    "plt.xticks(rotation=30)\n",
    "\n",
    "# Move the legend outside the plot\n",
    "plt.legend(title='State', bbox_to_anchor=(1.05, 1), loc='upper left')\n",
    "\n",
    "# Adjust layout to make space for the legend\n",
    "plt.tight_layout()\n",
    "\n",
    "# Show the combined plot\n",
    "plt.show()"
   ]
  },
  {
   "cell_type": "code",
   "execution_count": null,
   "metadata": {},
   "outputs": [],
   "source": [
    "array = df.to_numpy()"
   ]
  },
  {
   "cell_type": "code",
   "execution_count": null,
   "metadata": {},
   "outputs": [],
   "source": [
    "array"
   ]
  },
  {
   "cell_type": "code",
   "execution_count": null,
   "metadata": {},
   "outputs": [],
   "source": [
    "df2 = pd.read_csv('./data/33ElephantReserves.csv', encoding='ISO-8859-1')\n",
    "df2"
   ]
  },
  {
   "cell_type": "code",
   "execution_count": null,
   "metadata": {},
   "outputs": [],
   "source": [
    "df2.columns"
   ]
  },
  {
   "cell_type": "code",
   "execution_count": null,
   "metadata": {},
   "outputs": [],
   "source": [
    "# Convert Sq. km strings to numeric values\n",
    "df2['Total Area (in Sq. km)'][17] = '3500'"
   ]
  },
  {
   "cell_type": "code",
   "execution_count": null,
   "metadata": {},
   "outputs": [],
   "source": [
    "df2['Total Area (in Sq. km)'] = pd.to_numeric(df2['Total Area (in Sq. km)'])"
   ]
  },
  {
   "cell_type": "code",
   "execution_count": null,
   "metadata": {},
   "outputs": [],
   "source": [
    "df2"
   ]
  },
  {
   "cell_type": "code",
   "execution_count": null,
   "metadata": {},
   "outputs": [],
   "source": [
    "# Group by 'State' and calculate the total area for each state\n",
    "grouped = df2.groupby('State ')['Total Area (in Sq. km)'].sum().reset_index()\n",
    "grouped = grouped.sort_values(by='Total Area (in Sq. km)', ascending=False)"
   ]
  },
  {
   "cell_type": "code",
   "execution_count": null,
   "metadata": {},
   "outputs": [],
   "source": [
    "import matplotlib.pyplot as plt\n",
    "\n",
    "# Set up the plot style\n",
    "plt.figure(figsize=(10, 6))\n",
    "\n",
    "# Create a horizontal bar plot using Matplotlib\n",
    "plt.barh(grouped['State '], grouped['Total Area (in Sq. km)'], color='skyblue')\n",
    "\n",
    "# Add titles and labels\n",
    "plt.title('Total Elephant Reserve Area by State', fontsize=14)\n",
    "plt.xlabel('Total Area (Sq. km)', fontsize=12)\n",
    "plt.ylabel('State', fontsize=12)\n",
    "plt.xticks(rotation=30)\n",
    "\n",
    "# Invert the y-axis to have the largest values at the top\n",
    "plt.gca().invert_yaxis()\n",
    "\n",
    "# Display the plot\n",
    "plt.tight_layout()\n",
    "plt.show()\n"
   ]
  },
  {
   "cell_type": "code",
   "execution_count": null,
   "metadata": {},
   "outputs": [],
   "source": [
    "df2['Total Area (in Sq. km)']"
   ]
  },
  {
   "cell_type": "code",
   "execution_count": null,
   "metadata": {},
   "outputs": [],
   "source": [
    "grouped"
   ]
  },
  {
   "cell_type": "code",
   "execution_count": null,
   "metadata": {},
   "outputs": [],
   "source": [
    "df_area = grouped\n",
    "\n",
    "# Strip any whitespace from the 'State ' column name in the second DataFrame\n",
    "df_area.columns = df_area.columns.str.strip()\n",
    "\n",
    "df_area"
   ]
  },
  {
   "cell_type": "code",
   "execution_count": null,
   "metadata": {},
   "outputs": [],
   "source": [
    "df_elephants = df"
   ]
  },
  {
   "cell_type": "code",
   "execution_count": null,
   "metadata": {},
   "outputs": [],
   "source": [
    "df_elephants['STATE']"
   ]
  },
  {
   "cell_type": "code",
   "execution_count": null,
   "metadata": {},
   "outputs": [],
   "source": [
    "# Merge the two DataFrames on the common 'STATE' and 'State' columns\n",
    "df_merged = pd.merge(df_elephants, df_area, left_on='STATE', right_on='State')"
   ]
  },
  {
   "cell_type": "code",
   "execution_count": null,
   "metadata": {},
   "outputs": [],
   "source": [
    "df_merged"
   ]
  },
  {
   "cell_type": "code",
   "execution_count": null,
   "metadata": {},
   "outputs": [],
   "source": [
    "# Calculate elephants per square meter\n",
    "df_merged['Elephants per Sq. km in 2017'] = df_merged['ELEPHANT POPULATION IN 2017'] / df_merged['Total Area (in Sq. km)']"
   ]
  },
  {
   "cell_type": "code",
   "execution_count": null,
   "metadata": {},
   "outputs": [],
   "source": [
    "df_merged"
   ]
  },
  {
   "cell_type": "code",
   "execution_count": null,
   "metadata": {},
   "outputs": [],
   "source": [
    "# Display the result\n",
    "df_merged[['STATE', 'ELEPHANT POPULATION IN 2017', 'Total Area (in Sq. km)', 'Elephants per Sq. km']].sort_values(by='Elephants per Sq. km', ascending=False)"
   ]
  },
  {
   "cell_type": "code",
   "execution_count": null,
   "metadata": {},
   "outputs": [],
   "source": []
  },
  {
   "cell_type": "markdown",
   "metadata": {},
   "source": [
    "# Indian State-wise Population Analysis\n",
    "\n",
    "This analysis focuses on the **population of major Indian states** as of 2011. \n",
    "The dataset includes the following columns:\n",
    "- **State**: Name of the Indian state.\n",
    "- **Population (2011)**: Population of the state in 2011.\n",
    "\n",
    "Below is a snapshot of the dataset:"
   ]
  },
  {
   "cell_type": "code",
   "execution_count": null,
   "metadata": {},
   "outputs": [],
   "source": [
    "import pandas as pd\n",
    "import matplotlib.pyplot as plt\n",
    "from IPython.display import Latex\n",
    "\n",
    "# Sample Indian state population data\n",
    "# data from https://en.wikipedia.org/wiki/List_of_states_and_union_territories_of_India_by_population\n",
    "data = {\n",
    "    'State': ['Maharashtra', 'Uttar Pradesh', 'Bihar', 'West Bengal', 'Madhya Pradesh', 'Tamil Nadu', \n",
    "              'Rajasthan', 'Karnataka', 'Gujarat', 'Andhra Pradesh', 'Odisha'],\n",
    "    'Population (2011)': [112_374_333, 199_812_341, 104_099_452, 91_276_115, 72_626_809, 72_147_030, \n",
    "                          68_548_437, 61_095_297, 60_439_692, 49_577_103, 41_974_219],\n",
    "    'Population Growth % (2001-2012)': [20.2, 16, 25.4, 13.8, 20.3, 15.6, 21.3, 15.6, 19.3, 11.0, 14.0]\n",
    "}\n",
    "population_df = pd.DataFrame(data)"
   ]
  },
  {
   "cell_type": "code",
   "execution_count": null,
   "metadata": {},
   "outputs": [],
   "source": [
    "population_df.head()  # Display the first few rows"
   ]
  },
  {
   "cell_type": "code",
   "execution_count": null,
   "metadata": {},
   "outputs": [],
   "source": [
    "# Descriptive statistics\n",
    "population_df.describe()"
   ]
  },
  {
   "cell_type": "markdown",
   "metadata": {},
   "source": [
    "## Population Distribution Across States\n",
    "\n",
    "The bar chart below shows the population distribution across major Indian states in 2021."
   ]
  },
  {
   "cell_type": "code",
   "execution_count": null,
   "metadata": {},
   "outputs": [],
   "source": [
    "# Bar plot\n",
    "plt.figure(figsize=(12, 6))\n",
    "plt.bar(population_df['State'], population_df['Population (2011)'], color='skyblue')\n",
    "plt.title('Population of Indian States (2011)')\n",
    "plt.xlabel('States')\n",
    "plt.ylabel('Population')\n",
    "plt.xticks(rotation=45)\n",
    "plt.grid(axis='y')\n",
    "plt.show()"
   ]
  },
  {
   "cell_type": "markdown",
   "metadata": {},
   "source": [
    "## Key Insights\n",
    "\n",
    "- **Uttar Pradesh** has the highest population among Indian states, followed by **Maharashtra** and **Bihar**.\n",
    "- The population disparity among states is significant, indicating varying levels of urbanization and resources."
   ]
  },
  {
   "cell_type": "markdown",
   "metadata": {},
   "source": [
    "## Population Growth Rate\n",
    "\n",
    "The population growth rate can be calculated using the formula:\n",
    "\n",
    "\\begin{eqnarray}\n",
    "\\\n",
    "\\text{Growth Rate} = \\frac{P_{2021} - P_{2020}}{P_{2020}} \\times 100\n",
    "\\\n",
    "\\end{eqnarray}\n",
    "\n",
    "Where \\begin{eqnarray}( P_{2021} )\\end{eqnarray} is the population in 2021 and \\begin{eqnarray}( P_{2020} )\\end{eqnarray} is the population in 2020.\n"
   ]
  },
  {
   "cell_type": "markdown",
   "metadata": {},
   "source": [
    "### Exercise 3: Population of Indian states in 2001."
   ]
  },
  {
   "cell_type": "markdown",
   "metadata": {},
   "source": [
    "#### Write a formula in Latex (as above) to calculate the population in 2001 using the population growth percentage from 2001 to 2011."
   ]
  },
  {
   "cell_type": "markdown",
   "metadata": {},
   "source": [
    "\\begin{eqnarray}\n",
    "\\\n",
    "\\text{Your answer goes here...}\n",
    "\\\n",
    "\\end{eqnarray}"
   ]
  },
  {
   "cell_type": "markdown",
   "metadata": {},
   "source": [
    "#### Calculate Population in 2001 and add it as a column to the DataFrame"
   ]
  },
  {
   "cell_type": "code",
   "execution_count": null,
   "metadata": {},
   "outputs": [],
   "source": [
    "population_df['Population (2001)'] = ... # Your answer goes here"
   ]
  },
  {
   "cell_type": "markdown",
   "metadata": {},
   "source": [
    "#### Plot Population in 2001"
   ]
  },
  {
   "cell_type": "code",
   "execution_count": null,
   "metadata": {},
   "outputs": [],
   "source": [
    "plt.figure(figsize=(12, 6))\n",
    "#\n",
    "# Your answer goes here...\n",
    "#\n",
    "plt.xlabel('States')\n",
    "plt.ylabel('Population')\n",
    "plt.xticks(rotation=45)\n",
    "plt.grid(axis='y')\n",
    "plt.show()"
   ]
  },
  {
   "cell_type": "markdown",
   "metadata": {
    "jp-MarkdownHeadingCollapsed": true
   },
   "source": [
    "#### Answers"
   ]
  },
  {
   "cell_type": "code",
   "execution_count": null,
   "metadata": {},
   "outputs": [],
   "source": [
    "\"\"\"\n",
    "To calculate the population in 2001 using the population growth percentage from 2001 to 2011, \n",
    "you can apply the reverse growth calculation formula:\n",
    "\"\"\"\n",
    "%cat exercise3.answer1"
   ]
  },
  {
   "cell_type": "code",
   "execution_count": null,
   "metadata": {},
   "outputs": [],
   "source": []
  },
  {
   "cell_type": "code",
   "execution_count": null,
   "metadata": {},
   "outputs": [],
   "source": [
    "%cat exercise3.answer2"
   ]
  },
  {
   "cell_type": "code",
   "execution_count": null,
   "metadata": {},
   "outputs": [],
   "source": []
  },
  {
   "cell_type": "code",
   "execution_count": null,
   "metadata": {},
   "outputs": [],
   "source": []
  },
  {
   "cell_type": "markdown",
   "metadata": {},
   "source": [
    "## Conclusion\n",
    "\n",
    "- Understanding the population distribution across states can aid in resource allocation and policy-making.\n",
    "- Future analyses could focus on demographic breakdowns, literacy rates, or health statistics to provide deeper insights into the states' needs."
   ]
  }
 ],
 "metadata": {
  "kernelspec": {
   "display_name": "Python 3 (ipykernel)",
   "language": "python",
   "name": "python3"
  },
  "language_info": {
   "codemirror_mode": {
    "name": "ipython",
    "version": 3
   },
   "file_extension": ".py",
   "mimetype": "text/x-python",
   "name": "python",
   "nbconvert_exporter": "python",
   "pygments_lexer": "ipython3",
   "version": "3.12.6"
  }
 },
 "nbformat": 4,
 "nbformat_minor": 4
}
